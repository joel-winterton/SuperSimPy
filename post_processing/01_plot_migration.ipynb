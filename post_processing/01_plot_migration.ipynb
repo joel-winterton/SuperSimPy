{
 "cells": [
  {
   "metadata": {},
   "cell_type": "markdown",
   "source": [
    "# Simulation Migration Visualisation\n",
    "This notebook creates a visualisation of migration events that have been accepted during the simulation. This does not work offline (aka cannot be automated) due to a weird feature about Plotly and Geopandas, hence why this is a notebook.\n",
    "To create visualisation for a specific script do, change the \"sim_path\" variable below to the absolute folder path of the SuperSimPy output."
   ],
   "id": "7303761b03eb24b"
  },
  {
   "metadata": {
    "ExecuteTime": {
     "end_time": "2024-09-02T09:45:55.441123Z",
     "start_time": "2024-09-02T09:45:55.428173Z"
    }
   },
   "cell_type": "code",
   "source": "sim_path = \"../output/\"",
   "id": "87819ee720891824",
   "outputs": [],
   "execution_count": 14
  },
  {
   "metadata": {},
   "cell_type": "markdown",
   "source": [
    "## Collate data\n",
    "This section just collates data and puts it into a format that can be used to graph migrations."
   ],
   "id": "6e5f44892d0b1f4a"
  },
  {
   "metadata": {
    "ExecuteTime": {
     "end_time": "2024-09-02T09:45:55.906357Z",
     "start_time": "2024-09-02T09:45:55.525161Z"
    }
   },
   "cell_type": "code",
   "source": [
    "import pandas as pd\n",
    "import plotly.graph_objects as go\n",
    "import geopandas\n",
    "\n",
    "effective_distances = pd.read_csv('../pre_processing/data_sources/effective.distance.matrix.country.csv', header=0)\n",
    "#World\n",
    "world = geopandas.read_file('data_sources/ne_110m_admin_0_countries.zip')\n",
    "alpha2_codes = effective_distances.columns\n",
    "effective_distances.index = alpha2_codes\n",
    "\n",
    "country_codes = pd.read_csv('data_sources/countries_codes_and_coordinates.csv')\n",
    "country_codes['Alpha-2 code'] = country_codes['Alpha-2 code'].str.replace('\"', '')\n",
    "coords = {}\n",
    "for alpha2 in alpha2_codes:\n",
    "    row = country_codes.loc[country_codes['Alpha-2 code'] == \" \" + alpha2]\n",
    "    lon = float(row['Longitude (average)'].values[0].replace(' ', '').replace('\"', ''))\n",
    "    lat = float(row['Latitude (average)'].values[0].replace(' ', '').replace('\"', ''))\n",
    "    coords[alpha2] = [lon, lat]\n",
    "dictionary = pd.read_csv('../parameters/manypop_country_ids.csv')\n",
    "migrations = pd.read_csv(f\"{sim_path}migrations.tsv\", sep='\\t',\n",
    "                         dtype=dict(location=int, fullname=str, alpha2=str, population=int))\n",
    "dictionary = dictionary[['alpha2', 'location']]\n",
    "mergea = dictionary.add_suffix('_old').merge(migrations, left_on='location_old', right_on='Old_population')\n",
    "mergeb = dictionary.add_suffix('_new').merge(mergea, left_on='location_new', right_on='New_population')\n",
    "alpha2_migrations = mergeb[['alpha2_new','alpha2_old', 'Time', 'Node']]\n",
    "migration_counts = (alpha2_migrations.groupby(['alpha2_new','alpha2_old']).size())"
   ],
   "id": "244306e320113196",
   "outputs": [
    {
     "ename": "ValueError",
     "evalue": "Length mismatch: Expected axis has 228 elements, new values have 229 elements",
     "output_type": "error",
     "traceback": [
      "\u001B[0;31m---------------------------------------------------------------------------\u001B[0m",
      "\u001B[0;31mValueError\u001B[0m                                Traceback (most recent call last)",
      "Cell \u001B[0;32mIn[15], line 9\u001B[0m\n\u001B[1;32m      7\u001B[0m world \u001B[38;5;241m=\u001B[39m geopandas\u001B[38;5;241m.\u001B[39mread_file(\u001B[38;5;124m'\u001B[39m\u001B[38;5;124mdata_sources/ne_110m_admin_0_countries.zip\u001B[39m\u001B[38;5;124m'\u001B[39m)\n\u001B[1;32m      8\u001B[0m alpha2_codes \u001B[38;5;241m=\u001B[39m effective_distances\u001B[38;5;241m.\u001B[39mcolumns\n\u001B[0;32m----> 9\u001B[0m \u001B[43meffective_distances\u001B[49m\u001B[38;5;241;43m.\u001B[39;49m\u001B[43mindex\u001B[49m \u001B[38;5;241m=\u001B[39m alpha2_codes\n\u001B[1;32m     11\u001B[0m country_codes \u001B[38;5;241m=\u001B[39m pd\u001B[38;5;241m.\u001B[39mread_csv(\u001B[38;5;124m'\u001B[39m\u001B[38;5;124mdata_sources/countries_codes_and_coordinates.csv\u001B[39m\u001B[38;5;124m'\u001B[39m)\n\u001B[1;32m     12\u001B[0m country_codes[\u001B[38;5;124m'\u001B[39m\u001B[38;5;124mAlpha-2 code\u001B[39m\u001B[38;5;124m'\u001B[39m] \u001B[38;5;241m=\u001B[39m country_codes[\u001B[38;5;124m'\u001B[39m\u001B[38;5;124mAlpha-2 code\u001B[39m\u001B[38;5;124m'\u001B[39m]\u001B[38;5;241m.\u001B[39mstr\u001B[38;5;241m.\u001B[39mreplace(\u001B[38;5;124m'\u001B[39m\u001B[38;5;124m\"\u001B[39m\u001B[38;5;124m'\u001B[39m, \u001B[38;5;124m'\u001B[39m\u001B[38;5;124m'\u001B[39m)\n",
      "File \u001B[0;32m~/miniforge3/envs/conda_vgsim/lib/python3.9/site-packages/pandas/core/generic.py:6313\u001B[0m, in \u001B[0;36mNDFrame.__setattr__\u001B[0;34m(self, name, value)\u001B[0m\n\u001B[1;32m   6311\u001B[0m \u001B[38;5;28;01mtry\u001B[39;00m:\n\u001B[1;32m   6312\u001B[0m     \u001B[38;5;28mobject\u001B[39m\u001B[38;5;241m.\u001B[39m\u001B[38;5;21m__getattribute__\u001B[39m(\u001B[38;5;28mself\u001B[39m, name)\n\u001B[0;32m-> 6313\u001B[0m     \u001B[38;5;28;01mreturn\u001B[39;00m \u001B[38;5;28;43mobject\u001B[39;49m\u001B[38;5;241;43m.\u001B[39;49m\u001B[38;5;21;43m__setattr__\u001B[39;49m\u001B[43m(\u001B[49m\u001B[38;5;28;43mself\u001B[39;49m\u001B[43m,\u001B[49m\u001B[43m \u001B[49m\u001B[43mname\u001B[49m\u001B[43m,\u001B[49m\u001B[43m \u001B[49m\u001B[43mvalue\u001B[49m\u001B[43m)\u001B[49m\n\u001B[1;32m   6314\u001B[0m \u001B[38;5;28;01mexcept\u001B[39;00m \u001B[38;5;167;01mAttributeError\u001B[39;00m:\n\u001B[1;32m   6315\u001B[0m     \u001B[38;5;28;01mpass\u001B[39;00m\n",
      "File \u001B[0;32mproperties.pyx:69\u001B[0m, in \u001B[0;36mpandas._libs.properties.AxisProperty.__set__\u001B[0;34m()\u001B[0m\n",
      "File \u001B[0;32m~/miniforge3/envs/conda_vgsim/lib/python3.9/site-packages/pandas/core/generic.py:814\u001B[0m, in \u001B[0;36mNDFrame._set_axis\u001B[0;34m(self, axis, labels)\u001B[0m\n\u001B[1;32m    809\u001B[0m \u001B[38;5;250m\u001B[39m\u001B[38;5;124;03m\"\"\"\u001B[39;00m\n\u001B[1;32m    810\u001B[0m \u001B[38;5;124;03mThis is called from the cython code when we set the `index` attribute\u001B[39;00m\n\u001B[1;32m    811\u001B[0m \u001B[38;5;124;03mdirectly, e.g. `series.index = [1, 2, 3]`.\u001B[39;00m\n\u001B[1;32m    812\u001B[0m \u001B[38;5;124;03m\"\"\"\u001B[39;00m\n\u001B[1;32m    813\u001B[0m labels \u001B[38;5;241m=\u001B[39m ensure_index(labels)\n\u001B[0;32m--> 814\u001B[0m \u001B[38;5;28;43mself\u001B[39;49m\u001B[38;5;241;43m.\u001B[39;49m\u001B[43m_mgr\u001B[49m\u001B[38;5;241;43m.\u001B[39;49m\u001B[43mset_axis\u001B[49m\u001B[43m(\u001B[49m\u001B[43maxis\u001B[49m\u001B[43m,\u001B[49m\u001B[43m \u001B[49m\u001B[43mlabels\u001B[49m\u001B[43m)\u001B[49m\n\u001B[1;32m    815\u001B[0m \u001B[38;5;28mself\u001B[39m\u001B[38;5;241m.\u001B[39m_clear_item_cache()\n",
      "File \u001B[0;32m~/miniforge3/envs/conda_vgsim/lib/python3.9/site-packages/pandas/core/internals/managers.py:238\u001B[0m, in \u001B[0;36mBaseBlockManager.set_axis\u001B[0;34m(self, axis, new_labels)\u001B[0m\n\u001B[1;32m    236\u001B[0m \u001B[38;5;28;01mdef\u001B[39;00m \u001B[38;5;21mset_axis\u001B[39m(\u001B[38;5;28mself\u001B[39m, axis: AxisInt, new_labels: Index) \u001B[38;5;241m-\u001B[39m\u001B[38;5;241m>\u001B[39m \u001B[38;5;28;01mNone\u001B[39;00m:\n\u001B[1;32m    237\u001B[0m     \u001B[38;5;66;03m# Caller is responsible for ensuring we have an Index object.\u001B[39;00m\n\u001B[0;32m--> 238\u001B[0m     \u001B[38;5;28;43mself\u001B[39;49m\u001B[38;5;241;43m.\u001B[39;49m\u001B[43m_validate_set_axis\u001B[49m\u001B[43m(\u001B[49m\u001B[43maxis\u001B[49m\u001B[43m,\u001B[49m\u001B[43m \u001B[49m\u001B[43mnew_labels\u001B[49m\u001B[43m)\u001B[49m\n\u001B[1;32m    239\u001B[0m     \u001B[38;5;28mself\u001B[39m\u001B[38;5;241m.\u001B[39maxes[axis] \u001B[38;5;241m=\u001B[39m new_labels\n",
      "File \u001B[0;32m~/miniforge3/envs/conda_vgsim/lib/python3.9/site-packages/pandas/core/internals/base.py:98\u001B[0m, in \u001B[0;36mDataManager._validate_set_axis\u001B[0;34m(self, axis, new_labels)\u001B[0m\n\u001B[1;32m     95\u001B[0m     \u001B[38;5;28;01mpass\u001B[39;00m\n\u001B[1;32m     97\u001B[0m \u001B[38;5;28;01melif\u001B[39;00m new_len \u001B[38;5;241m!=\u001B[39m old_len:\n\u001B[0;32m---> 98\u001B[0m     \u001B[38;5;28;01mraise\u001B[39;00m \u001B[38;5;167;01mValueError\u001B[39;00m(\n\u001B[1;32m     99\u001B[0m         \u001B[38;5;124mf\u001B[39m\u001B[38;5;124m\"\u001B[39m\u001B[38;5;124mLength mismatch: Expected axis has \u001B[39m\u001B[38;5;132;01m{\u001B[39;00mold_len\u001B[38;5;132;01m}\u001B[39;00m\u001B[38;5;124m elements, new \u001B[39m\u001B[38;5;124m\"\u001B[39m\n\u001B[1;32m    100\u001B[0m         \u001B[38;5;124mf\u001B[39m\u001B[38;5;124m\"\u001B[39m\u001B[38;5;124mvalues have \u001B[39m\u001B[38;5;132;01m{\u001B[39;00mnew_len\u001B[38;5;132;01m}\u001B[39;00m\u001B[38;5;124m elements\u001B[39m\u001B[38;5;124m\"\u001B[39m\n\u001B[1;32m    101\u001B[0m     )\n",
      "\u001B[0;31mValueError\u001B[0m: Length mismatch: Expected axis has 228 elements, new values have 229 elements"
     ]
    }
   ],
   "execution_count": 15
  },
  {
   "metadata": {},
   "cell_type": "markdown",
   "source": "## Plot graph",
   "id": "ff9c50d5ccef0b21"
  },
  {
   "metadata": {},
   "cell_type": "code",
   "source": [
    "fig = go.Figure()\n",
    "maximum = migration_counts.max()\n",
    "for key, count in migration_counts.items():\n",
    "    alpha_old, alpha_new = key\n",
    "    coord_old, coord_new = coords[alpha_old], coords[alpha_new]\n",
    "    fig.add_trace(go.Scattergeo(locationmode='ISO-3', lon=[coord_old[0], coord_new[0]], lat=[coord_old[1], coord_new[1]],\n",
    "                  mode='lines', line=dict(width=1.5*float(count / maximum), color='red'),\n",
    "                  opacity=1))\n",
    "fig.update_layout(\n",
    "    title_text='Simulation accepted migration events',\n",
    "    title_x=0.5,\n",
    "    showlegend=False,\n",
    "    geo=dict(scope=\"world\",\n",
    "             showland=True,landcolor='rgb(243,243,243)',\n",
    "             countrycolor='rgb(204,204,204)',projection=dict(type=\"mercator\")),\n",
    "    autosize=False,\n",
    "    width= 1000,\n",
    "    height= 600,\n",
    ")\n",
    "fig.show()"
   ],
   "id": "40ef956df4715626",
   "outputs": [],
   "execution_count": null
  }
 ],
 "metadata": {
  "kernelspec": {
   "display_name": "Python 3",
   "language": "python",
   "name": "python3"
  },
  "language_info": {
   "codemirror_mode": {
    "name": "ipython",
    "version": 2
   },
   "file_extension": ".py",
   "mimetype": "text/x-python",
   "name": "python",
   "nbconvert_exporter": "python",
   "pygments_lexer": "ipython2",
   "version": "2.7.6"
  }
 },
 "nbformat": 4,
 "nbformat_minor": 5
}
