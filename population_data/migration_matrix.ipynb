{
 "cells": [
  {
   "cell_type": "markdown",
   "id": "2c1047e21a797c84",
   "metadata": {},
   "source": [
    "# Create migration matrix\n",
    "VGsim needs a matrix with entries containing probability of an individual moving between locations per unit time, this notebook\n",
    "obtains that by calculating number of people flying between countries through reversing an effective distance matrix that is available in some supplementary materials https://www.science.org/doi/10.1126/science.1245200#supplementary-materials. \n",
    "\n",
    "### Load libraries and datasets"
   ]
  },
  {
   "cell_type": "code",
   "id": "initial_id",
   "metadata": {
    "ExecuteTime": {
     "end_time": "2024-07-23T10:37:58.503974Z",
     "start_time": "2024-07-23T10:37:58.305004Z"
    }
   },
   "source": [
    "import pandas as pd\n",
    "import numpy as np\n",
    "\n",
    "# Alpha2 code of where to start the pandemic, look in the effective distance matrix for the available countries.\n",
    "pandemic_start_alpha2 = 'CN'\n",
    "# Uniform probability of staying in any country per unit time.\n",
    "in_country_probability = 0.95\n",
    "\n",
    "# Effective distance data\n",
    "\n",
    "effective_distances = pd.read_csv('original_data/effective.distance.matrix.country.csv', header=0)\n",
    "effective_distances.drop(effective_distances.columns[0], axis=1, inplace=True)\n",
    "\n",
    "# Population sizes data\n",
    "\n",
    "population_sizes = pd.read_csv('output/census_2013.csv', header=0)\n",
    "alpha2_codes = effective_distances.columns\n",
    "\n",
    "# Sampling data (obtained from sampling_multipliers.ipynb)\n",
    "\n",
    "sampling_multipliers = pd.read_csv('output/sampling_multipliers.csv', header=0, index_col=0)\n",
    "\n",
    "effective_distances.head()"
   ],
   "outputs": [
    {
     "data": {
      "text/plain": [
       "         AE         AF         AG         AI         AL         AM         AO  \\\n",
       "0  0.000000   5.614035  11.531617  15.902166  10.178471   7.769530   7.319591   \n",
       "1  1.548074   0.000000  13.079690  17.450240  10.173316   9.317603   8.867664   \n",
       "2  7.181742  12.795778   0.000000   5.366969  11.139288  13.218427  12.275860   \n",
       "3  8.968363  14.582398   2.224032   0.000000  13.363319  14.356298  14.254211   \n",
       "4  6.413046  10.472095  11.760670  17.127640   0.000000  10.349453  11.707611   \n",
       "\n",
       "          AR         AS         AT  ...         VI         VN         VU  \\\n",
       "0   9.130665  13.846666   6.344803  ...  10.779283   7.031367  10.655119   \n",
       "1  10.678739  15.394739   5.369434  ...  12.327357   8.579441  12.203193   \n",
       "2   8.597538  11.985323   8.737326  ...   7.430663  11.554362  14.098395   \n",
       "3   9.569931  12.957716  10.961358  ...   2.213855  12.526755  15.070788   \n",
       "4   8.216086  15.163964   3.566389  ...  12.096582  11.296419  17.068165   \n",
       "\n",
       "          WF         WS         YE         YT         ZA         ZM         ZW  \n",
       "0  14.960192  11.888486   6.435626  12.316025   5.262377   7.236649   8.955652  \n",
       "1  16.508266  13.436560   7.983700  13.864099   6.810451   8.784722  10.503726  \n",
       "2  16.611105  13.239721  13.617368  14.920257   8.765838  12.203931  12.459113  \n",
       "3  17.583498  14.212114  15.403988  14.410679  10.989870  14.427962  14.683145  \n",
       "4  18.930315  16.418362  11.336016  12.905280  10.016969  13.455061  13.435707  \n",
       "\n",
       "[5 rows x 228 columns]"
      ],
      "text/html": [
       "<div>\n",
       "<style scoped>\n",
       "    .dataframe tbody tr th:only-of-type {\n",
       "        vertical-align: middle;\n",
       "    }\n",
       "\n",
       "    .dataframe tbody tr th {\n",
       "        vertical-align: top;\n",
       "    }\n",
       "\n",
       "    .dataframe thead th {\n",
       "        text-align: right;\n",
       "    }\n",
       "</style>\n",
       "<table border=\"1\" class=\"dataframe\">\n",
       "  <thead>\n",
       "    <tr style=\"text-align: right;\">\n",
       "      <th></th>\n",
       "      <th>AE</th>\n",
       "      <th>AF</th>\n",
       "      <th>AG</th>\n",
       "      <th>AI</th>\n",
       "      <th>AL</th>\n",
       "      <th>AM</th>\n",
       "      <th>AO</th>\n",
       "      <th>AR</th>\n",
       "      <th>AS</th>\n",
       "      <th>AT</th>\n",
       "      <th>...</th>\n",
       "      <th>VI</th>\n",
       "      <th>VN</th>\n",
       "      <th>VU</th>\n",
       "      <th>WF</th>\n",
       "      <th>WS</th>\n",
       "      <th>YE</th>\n",
       "      <th>YT</th>\n",
       "      <th>ZA</th>\n",
       "      <th>ZM</th>\n",
       "      <th>ZW</th>\n",
       "    </tr>\n",
       "  </thead>\n",
       "  <tbody>\n",
       "    <tr>\n",
       "      <th>0</th>\n",
       "      <td>0.000000</td>\n",
       "      <td>5.614035</td>\n",
       "      <td>11.531617</td>\n",
       "      <td>15.902166</td>\n",
       "      <td>10.178471</td>\n",
       "      <td>7.769530</td>\n",
       "      <td>7.319591</td>\n",
       "      <td>9.130665</td>\n",
       "      <td>13.846666</td>\n",
       "      <td>6.344803</td>\n",
       "      <td>...</td>\n",
       "      <td>10.779283</td>\n",
       "      <td>7.031367</td>\n",
       "      <td>10.655119</td>\n",
       "      <td>14.960192</td>\n",
       "      <td>11.888486</td>\n",
       "      <td>6.435626</td>\n",
       "      <td>12.316025</td>\n",
       "      <td>5.262377</td>\n",
       "      <td>7.236649</td>\n",
       "      <td>8.955652</td>\n",
       "    </tr>\n",
       "    <tr>\n",
       "      <th>1</th>\n",
       "      <td>1.548074</td>\n",
       "      <td>0.000000</td>\n",
       "      <td>13.079690</td>\n",
       "      <td>17.450240</td>\n",
       "      <td>10.173316</td>\n",
       "      <td>9.317603</td>\n",
       "      <td>8.867664</td>\n",
       "      <td>10.678739</td>\n",
       "      <td>15.394739</td>\n",
       "      <td>5.369434</td>\n",
       "      <td>...</td>\n",
       "      <td>12.327357</td>\n",
       "      <td>8.579441</td>\n",
       "      <td>12.203193</td>\n",
       "      <td>16.508266</td>\n",
       "      <td>13.436560</td>\n",
       "      <td>7.983700</td>\n",
       "      <td>13.864099</td>\n",
       "      <td>6.810451</td>\n",
       "      <td>8.784722</td>\n",
       "      <td>10.503726</td>\n",
       "    </tr>\n",
       "    <tr>\n",
       "      <th>2</th>\n",
       "      <td>7.181742</td>\n",
       "      <td>12.795778</td>\n",
       "      <td>0.000000</td>\n",
       "      <td>5.366969</td>\n",
       "      <td>11.139288</td>\n",
       "      <td>13.218427</td>\n",
       "      <td>12.275860</td>\n",
       "      <td>8.597538</td>\n",
       "      <td>11.985323</td>\n",
       "      <td>8.737326</td>\n",
       "      <td>...</td>\n",
       "      <td>7.430663</td>\n",
       "      <td>11.554362</td>\n",
       "      <td>14.098395</td>\n",
       "      <td>16.611105</td>\n",
       "      <td>13.239721</td>\n",
       "      <td>13.617368</td>\n",
       "      <td>14.920257</td>\n",
       "      <td>8.765838</td>\n",
       "      <td>12.203931</td>\n",
       "      <td>12.459113</td>\n",
       "    </tr>\n",
       "    <tr>\n",
       "      <th>3</th>\n",
       "      <td>8.968363</td>\n",
       "      <td>14.582398</td>\n",
       "      <td>2.224032</td>\n",
       "      <td>0.000000</td>\n",
       "      <td>13.363319</td>\n",
       "      <td>14.356298</td>\n",
       "      <td>14.254211</td>\n",
       "      <td>9.569931</td>\n",
       "      <td>12.957716</td>\n",
       "      <td>10.961358</td>\n",
       "      <td>...</td>\n",
       "      <td>2.213855</td>\n",
       "      <td>12.526755</td>\n",
       "      <td>15.070788</td>\n",
       "      <td>17.583498</td>\n",
       "      <td>14.212114</td>\n",
       "      <td>15.403988</td>\n",
       "      <td>14.410679</td>\n",
       "      <td>10.989870</td>\n",
       "      <td>14.427962</td>\n",
       "      <td>14.683145</td>\n",
       "    </tr>\n",
       "    <tr>\n",
       "      <th>4</th>\n",
       "      <td>6.413046</td>\n",
       "      <td>10.472095</td>\n",
       "      <td>11.760670</td>\n",
       "      <td>17.127640</td>\n",
       "      <td>0.000000</td>\n",
       "      <td>10.349453</td>\n",
       "      <td>11.707611</td>\n",
       "      <td>8.216086</td>\n",
       "      <td>15.163964</td>\n",
       "      <td>3.566389</td>\n",
       "      <td>...</td>\n",
       "      <td>12.096582</td>\n",
       "      <td>11.296419</td>\n",
       "      <td>17.068165</td>\n",
       "      <td>18.930315</td>\n",
       "      <td>16.418362</td>\n",
       "      <td>11.336016</td>\n",
       "      <td>12.905280</td>\n",
       "      <td>10.016969</td>\n",
       "      <td>13.455061</td>\n",
       "      <td>13.435707</td>\n",
       "    </tr>\n",
       "  </tbody>\n",
       "</table>\n",
       "<p>5 rows × 228 columns</p>\n",
       "</div>"
      ]
     },
     "execution_count": 342,
     "metadata": {},
     "output_type": "execute_result"
    }
   ],
   "execution_count": 342
  },
  {
   "cell_type": "markdown",
   "id": "76337cc4f1bcd93f",
   "metadata": {},
   "source": [
    "## Flux matrix\n",
    "Invert effective distance function to get flux. Off diagonals matter only, since diagonal is zero in effective distance matrix."
   ]
  },
  {
   "cell_type": "code",
   "id": "b0d1c062a9304ce9",
   "metadata": {
    "ExecuteTime": {
     "end_time": "2024-07-23T10:37:58.923457Z",
     "start_time": "2024-07-23T10:37:58.724946Z"
    }
   },
   "source": "flux_matrix = effective_distances.apply(lambda x: np.exp(1 - x))",
   "outputs": [],
   "execution_count": 343
  },
  {
   "cell_type": "markdown",
   "id": "83c4e629df44d3a4",
   "metadata": {},
   "source": [
    "## Clean flux matrix\n",
    "Remove rows and columns of countries in flux matrix that aren't in population dataset."
   ]
  },
  {
   "cell_type": "code",
   "id": "7165aee4c27e1e3f",
   "metadata": {
    "ExecuteTime": {
     "end_time": "2024-07-23T10:37:59.278236Z",
     "start_time": "2024-07-23T10:37:58.936623Z"
    }
   },
   "source": [
    "missing_countries_columns = []\n",
    "missing_countries_rows = []\n",
    "for index, alpha2 in enumerate(alpha2_codes):\n",
    "    country_mask = population_sizes['alpha2'] == alpha2\n",
    "    country_data = population_sizes[country_mask]\n",
    "    if len(country_data['population']) == 0:\n",
    "        missing_countries_columns.append(alpha2)\n",
    "        missing_countries_rows.append(index)\n",
    "flux_matrix = flux_matrix.drop(missing_countries_columns, axis=1).drop(flux_matrix.index[missing_countries_rows])\n",
    "flux_matrix.index = flux_matrix.columns\n",
    "\n",
    "# Arbritralily say that 85% of people in each country stay in that country each unit of time. If migration rates are unrealistically high, this number is too low.\n",
    "np.fill_diagonal(flux_matrix.values, in_country_probability)"
   ],
   "outputs": [],
   "execution_count": 344
  },
  {
   "metadata": {
    "ExecuteTime": {
     "end_time": "2024-07-23T10:37:59.305325Z",
     "start_time": "2024-07-23T10:37:59.284443Z"
    }
   },
   "cell_type": "code",
   "source": "row_normalised = flux_matrix.div(flux_matrix.sum(axis=0), axis=1)",
   "id": "10e661faeb51cf14",
   "outputs": [],
   "execution_count": 345
  },
  {
   "metadata": {},
   "cell_type": "markdown",
   "source": [
    "# Place starting place at (0,0)\n",
    "By default, the first entry in the population data is where the pandemic starts (in VGsim), so we need to swap the first row and first column with the row and column of the country we want to start in. \n"
   ],
   "id": "16cdfb2ceef04470"
  },
  {
   "metadata": {
    "ExecuteTime": {
     "end_time": "2024-07-23T10:37:59.503139Z",
     "start_time": "2024-07-23T10:37:59.478514Z"
    }
   },
   "cell_type": "code",
   "source": [
    "# Get column index (and by symmetry also row index) of starting country \n",
    "target_start_index = row_normalised.columns.get_loc(pandemic_start_alpha2)\n",
    "original_start_name = row_normalised.columns[0]\n",
    "# Swap the columns of the start country and the first country \n",
    "col_list = list(row_normalised)\n",
    "col_list[0], col_list[target_start_index] = col_list[target_start_index], col_list[0]\n",
    "row_normalised.columns = col_list\n",
    "\n",
    "# Swap the rows \n",
    "ordered_proportions = row_normalised.reindex(col_list)"
   ],
   "id": "ce6a5e902cd65523",
   "outputs": [],
   "execution_count": 346
  },
  {
   "metadata": {
    "ExecuteTime": {
     "end_time": "2024-07-23T10:37:59.947877Z",
     "start_time": "2024-07-23T10:37:59.913090Z"
    }
   },
   "cell_type": "code",
   "source": [
    "filtered_pop = population_sizes[population_sizes['alpha2'].isin(alpha2_codes)]\n",
    "filtered_pop.set_index('alpha2', inplace=True)\n",
    "filtered_pop = filtered_pop.reindex(col_list)\n",
    "filtered_pop.head()"
   ],
   "id": "1104a6e61e89d89e",
   "outputs": [
    {
     "data": {
      "text/plain": [
       "        population             fullname\n",
       "alpha2                                 \n",
       "CN      1371860000                China\n",
       "AF        32716210          Afghanistan\n",
       "AG           89236  Antigua and Barbuda\n",
       "AL         2889104              Albania\n",
       "AM         2889930              Armenia"
      ],
      "text/html": [
       "<div>\n",
       "<style scoped>\n",
       "    .dataframe tbody tr th:only-of-type {\n",
       "        vertical-align: middle;\n",
       "    }\n",
       "\n",
       "    .dataframe tbody tr th {\n",
       "        vertical-align: top;\n",
       "    }\n",
       "\n",
       "    .dataframe thead th {\n",
       "        text-align: right;\n",
       "    }\n",
       "</style>\n",
       "<table border=\"1\" class=\"dataframe\">\n",
       "  <thead>\n",
       "    <tr style=\"text-align: right;\">\n",
       "      <th></th>\n",
       "      <th>population</th>\n",
       "      <th>fullname</th>\n",
       "    </tr>\n",
       "    <tr>\n",
       "      <th>alpha2</th>\n",
       "      <th></th>\n",
       "      <th></th>\n",
       "    </tr>\n",
       "  </thead>\n",
       "  <tbody>\n",
       "    <tr>\n",
       "      <th>CN</th>\n",
       "      <td>1371860000</td>\n",
       "      <td>China</td>\n",
       "    </tr>\n",
       "    <tr>\n",
       "      <th>AF</th>\n",
       "      <td>32716210</td>\n",
       "      <td>Afghanistan</td>\n",
       "    </tr>\n",
       "    <tr>\n",
       "      <th>AG</th>\n",
       "      <td>89236</td>\n",
       "      <td>Antigua and Barbuda</td>\n",
       "    </tr>\n",
       "    <tr>\n",
       "      <th>AL</th>\n",
       "      <td>2889104</td>\n",
       "      <td>Albania</td>\n",
       "    </tr>\n",
       "    <tr>\n",
       "      <th>AM</th>\n",
       "      <td>2889930</td>\n",
       "      <td>Armenia</td>\n",
       "    </tr>\n",
       "  </tbody>\n",
       "</table>\n",
       "</div>"
      ]
     },
     "execution_count": 347,
     "metadata": {},
     "output_type": "execute_result"
    }
   ],
   "execution_count": 347
  },
  {
   "metadata": {},
   "cell_type": "markdown",
   "source": "## Write matrix in .mg format\n",
   "id": "2f4ffd0c1b2ee391"
  },
  {
   "metadata": {
    "ExecuteTime": {
     "end_time": "2024-07-23T10:38:00.122631Z",
     "start_time": "2024-07-23T10:38:00.116070Z"
    }
   },
   "cell_type": "code",
   "source": "base_file = 'output/manypop'",
   "id": "5cc732c1e3cbb41",
   "outputs": [],
   "execution_count": 348
  },
  {
   "metadata": {
    "ExecuteTime": {
     "end_time": "2024-07-23T10:38:00.486597Z",
     "start_time": "2024-07-23T10:38:00.206771Z"
    }
   },
   "cell_type": "code",
   "source": [
    "with open(base_file + '.mg', 'w') as f:\n",
    "    f.write('#Migration_format_version 0.0.1\\n')\n",
    "\n",
    "(ordered_proportions.transpose()).to_csv(base_file + '.mg', header=False, index=None, mode=\"a\", sep=' ', float_format='%.15f')"
   ],
   "id": "1355ec304dcf7844",
   "outputs": [],
   "execution_count": 349
  },
  {
   "metadata": {},
   "cell_type": "markdown",
   "source": "## Write population data in .pp format ",
   "id": "e77d5098e73867d1"
  },
  {
   "metadata": {
    "ExecuteTime": {
     "end_time": "2024-07-23T10:38:00.545545Z",
     "start_time": "2024-07-23T10:38:00.491504Z"
    }
   },
   "cell_type": "code",
   "source": [
    "sampling_multipliers_complete = np.full(shape=len(filtered_pop['population']),fill_value=0.00,dtype=np.double)\n",
    "outer_index = 0\n",
    "for index, row in filtered_pop.iterrows():\n",
    "    if index in sampling_multipliers.index:\n",
    "        sampling_multipliers_complete[outer_index] = sampling_multipliers.loc[index,'proportion'].astype(float)\n",
    "    outer_index+=1"
   ],
   "id": "af34d945fbbc2292",
   "outputs": [],
   "execution_count": 350
  },
  {
   "metadata": {
    "ExecuteTime": {
     "end_time": "2024-07-23T10:38:00.620714Z",
     "start_time": "2024-07-23T10:38:00.549400Z"
    }
   },
   "cell_type": "code",
   "source": [
    "\n",
    "population_data = pd.DataFrame({'size': filtered_pop['population'],\n",
    "                                'contactDensity': np.full(shape=len(filtered_pop['population']), fill_value=1.00,\n",
    "                                                          dtype=np.double),\n",
    "                                'conDenAfterLD': np.full(shape=len(filtered_pop['population']), fill_value=0.1,\n",
    "                                                         dtype=np.double),\n",
    "                                'startLD': np.full(shape=len(filtered_pop['population']), fill_value=0.01,\n",
    "                                                   dtype=np.double),\n",
    "                                'endLD': np.full(shape=len(filtered_pop['population']), fill_value=0.002,\n",
    "                                                 dtype=np.double),\n",
    "                                'samplingMultiplier': sampling_multipliers_complete,\n",
    "                                'fullname':filtered_pop['fullname']})\n",
    "# VGsim seems to require 3 columns to be comma-seperated, while the rest are space seperated, so must merge some columns by commas: \n",
    "population_data = population_data.reindex(col_list)\n",
    "population_data['id'] = range(len(filtered_pop['population']))\n",
    "# Extract ID to Full country name to a separate table for relabelling countries after simulations\n",
    "population_translation_data = population_data[['id','fullname']]\n",
    "population_translation_data = population_translation_data.rename(columns={'id':'location'})\n",
    "population_data['conDenAfterLD startLD endLD'] = population_data['conDenAfterLD'].astype(str) + \",\" + population_data[\n",
    "    'startLD'].astype(str) + \",\" + population_data['endLD'].astype(str)\n",
    "population_data = population_data[['id', 'size', 'contactDensity', 'conDenAfterLD startLD endLD', 'samplingMultiplier']]\n",
    "population_data.head()"
   ],
   "id": "2ac5cf09225a7d7c",
   "outputs": [
    {
     "data": {
      "text/plain": [
       "        id        size  contactDensity conDenAfterLD startLD endLD  \\\n",
       "alpha2                                                               \n",
       "CN       0  1371860000             1.0              0.1,0.01,0.002   \n",
       "AF       1    32716210             1.0              0.1,0.01,0.002   \n",
       "AG       2       89236             1.0              0.1,0.01,0.002   \n",
       "AL       3     2889104             1.0              0.1,0.01,0.002   \n",
       "AM       4     2889930             1.0              0.1,0.01,0.002   \n",
       "\n",
       "        samplingMultiplier  \n",
       "alpha2                      \n",
       "CN                0.000004  \n",
       "AF                0.000000  \n",
       "AG                0.000000  \n",
       "AL                0.000000  \n",
       "AM                0.000000  "
      ],
      "text/html": [
       "<div>\n",
       "<style scoped>\n",
       "    .dataframe tbody tr th:only-of-type {\n",
       "        vertical-align: middle;\n",
       "    }\n",
       "\n",
       "    .dataframe tbody tr th {\n",
       "        vertical-align: top;\n",
       "    }\n",
       "\n",
       "    .dataframe thead th {\n",
       "        text-align: right;\n",
       "    }\n",
       "</style>\n",
       "<table border=\"1\" class=\"dataframe\">\n",
       "  <thead>\n",
       "    <tr style=\"text-align: right;\">\n",
       "      <th></th>\n",
       "      <th>id</th>\n",
       "      <th>size</th>\n",
       "      <th>contactDensity</th>\n",
       "      <th>conDenAfterLD startLD endLD</th>\n",
       "      <th>samplingMultiplier</th>\n",
       "    </tr>\n",
       "    <tr>\n",
       "      <th>alpha2</th>\n",
       "      <th></th>\n",
       "      <th></th>\n",
       "      <th></th>\n",
       "      <th></th>\n",
       "      <th></th>\n",
       "    </tr>\n",
       "  </thead>\n",
       "  <tbody>\n",
       "    <tr>\n",
       "      <th>CN</th>\n",
       "      <td>0</td>\n",
       "      <td>1371860000</td>\n",
       "      <td>1.0</td>\n",
       "      <td>0.1,0.01,0.002</td>\n",
       "      <td>0.000004</td>\n",
       "    </tr>\n",
       "    <tr>\n",
       "      <th>AF</th>\n",
       "      <td>1</td>\n",
       "      <td>32716210</td>\n",
       "      <td>1.0</td>\n",
       "      <td>0.1,0.01,0.002</td>\n",
       "      <td>0.000000</td>\n",
       "    </tr>\n",
       "    <tr>\n",
       "      <th>AG</th>\n",
       "      <td>2</td>\n",
       "      <td>89236</td>\n",
       "      <td>1.0</td>\n",
       "      <td>0.1,0.01,0.002</td>\n",
       "      <td>0.000000</td>\n",
       "    </tr>\n",
       "    <tr>\n",
       "      <th>AL</th>\n",
       "      <td>3</td>\n",
       "      <td>2889104</td>\n",
       "      <td>1.0</td>\n",
       "      <td>0.1,0.01,0.002</td>\n",
       "      <td>0.000000</td>\n",
       "    </tr>\n",
       "    <tr>\n",
       "      <th>AM</th>\n",
       "      <td>4</td>\n",
       "      <td>2889930</td>\n",
       "      <td>1.0</td>\n",
       "      <td>0.1,0.01,0.002</td>\n",
       "      <td>0.000000</td>\n",
       "    </tr>\n",
       "  </tbody>\n",
       "</table>\n",
       "</div>"
      ]
     },
     "execution_count": 351,
     "metadata": {},
     "output_type": "execute_result"
    }
   ],
   "execution_count": 351
  },
  {
   "metadata": {
    "ExecuteTime": {
     "end_time": "2024-07-23T10:38:00.649823Z",
     "start_time": "2024-07-23T10:38:00.627127Z"
    }
   },
   "cell_type": "code",
   "source": [
    "with open(base_file + '.pp', 'w') as f:\n",
    "    f.write('#Population_format_version 0.0.1\\n')\n",
    "\n",
    "population_data.to_csv(base_file + '.pp', header=True, index=None, mode=\"a\", sep=' ')\n",
    "population_translation_data.to_csv(r'./output/manypop_country_ids.csv', index=None, sep=',', mode='w')"
   ],
   "id": "901b6412346e5b9e",
   "outputs": [],
   "execution_count": 352
  },
  {
   "metadata": {},
   "cell_type": "markdown",
   "source": [
    "# Output\n",
    "You can access the resulting three data files relative in:\n",
    " 1. `/migration_data/output/manypop.mg`\n",
    "2. `/migration_data/output/manypop.pp`\n",
    "3. `/migration_data/output/manypop_country_codes.csv` "
   ],
   "id": "f0cf1b315652838f"
  }
 ],
 "metadata": {
  "kernelspec": {
   "display_name": "Python 3 (ipykernel)",
   "language": "python",
   "name": "python3"
  },
  "language_info": {
   "codemirror_mode": {
    "name": "ipython",
    "version": 3
   },
   "file_extension": ".py",
   "mimetype": "text/x-python",
   "name": "python",
   "nbconvert_exporter": "python",
   "pygments_lexer": "ipython3",
   "version": "3.9.19"
  }
 },
 "nbformat": 4,
 "nbformat_minor": 5
}
