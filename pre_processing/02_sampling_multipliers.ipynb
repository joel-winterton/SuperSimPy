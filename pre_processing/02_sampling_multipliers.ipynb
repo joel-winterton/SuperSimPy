{
 "cells": [
  {
   "metadata": {},
   "cell_type": "markdown",
   "source": [
    "# Sampling multiplier \n",
    "*Important* The data in the sources here is too big to upload to GitHub, the links to the original sources are below, and will have to be placed inside this script if you wish to recalculate sampling multipliers using the same data.\n",
    "\n",
    "We want a realistic sampling bias in our simulations. This sheet computes sampling multipliers for each country in our simulation by calculating the cases sequenced to number of cases ratio for each country, the most available dataset for this is COVID.\n",
    "\n",
    "COVID sequencing data is obtained from https://www.biorxiv.org/content/10.1101/2024.07.12.603240v1\n",
    "COVID case data is obtained from https://ourworldindata.org/covid-cases\n"
   ],
   "id": "d355ded79d79efde"
  },
  {
   "cell_type": "code",
   "id": "initial_id",
   "metadata": {
    "collapsed": true,
    "ExecuteTime": {
     "end_time": "2024-09-03T14:57:00.397582Z",
     "start_time": "2024-09-03T14:56:51.179769Z"
    }
   },
   "source": [
    "import pandas as pd\n",
    "import pycountry\n",
    "unclean_seq_m = pd.read_csv('data_sources/Viridian_2M_noShortDel_MAPLE_metaData.tsv', sep='\\t')\n",
    "cases_by_country = pd.read_csv('data_sources/owid-covid-data.csv')"
   ],
   "outputs": [],
   "execution_count": 8
  },
  {
   "metadata": {
    "ExecuteTime": {
     "end_time": "2024-09-03T14:57:00.514524Z",
     "start_time": "2024-09-03T14:57:00.409723Z"
    }
   },
   "cell_type": "code",
   "source": [
    "seq_m = unclean_seq_m[unclean_seq_m['country'].notna()]\n",
    "seq_m = seq_m[seq_m['country']!= 'UNKNOWN']\n",
    "seq_m.head()"
   ],
   "id": "8213db6d45a5725c",
   "outputs": [
    {
     "data": {
      "text/plain": [
       "       strain                collapsedTo  support  rootSupport supportGroup  \\\n",
       "1  ERR4806745  ERR4806745_MinorSeqsClade      NaN          NaN          NaN   \n",
       "2  ERR5989690  ERR4806745_MinorSeqsClade      NaN          NaN          NaN   \n",
       "3  ERR6061709  ERR4806745_MinorSeqsClade      NaN          NaN          NaN   \n",
       "4  ERR5628278  ERR4806745_MinorSeqsClade      NaN          NaN          NaN   \n",
       "5  ERR4806964  ERR4806745_MinorSeqsClade      NaN          NaN          NaN   \n",
       "\n",
       "  supportTo mutationsInf   Ns         country        date lineage  \n",
       "1       NaN          NaN  NaN  United Kingdom  2020-10-08       A  \n",
       "2       NaN          NaN  NaN  United Kingdom        2020       A  \n",
       "3       NaN          NaN  NaN  United Kingdom        2020       A  \n",
       "4       NaN          NaN  NaN  United Kingdom        2020       A  \n",
       "5       NaN          NaN  NaN  United Kingdom  2020-10-13       A  "
      ],
      "text/html": [
       "<div>\n",
       "<style scoped>\n",
       "    .dataframe tbody tr th:only-of-type {\n",
       "        vertical-align: middle;\n",
       "    }\n",
       "\n",
       "    .dataframe tbody tr th {\n",
       "        vertical-align: top;\n",
       "    }\n",
       "\n",
       "    .dataframe thead th {\n",
       "        text-align: right;\n",
       "    }\n",
       "</style>\n",
       "<table border=\"1\" class=\"dataframe\">\n",
       "  <thead>\n",
       "    <tr style=\"text-align: right;\">\n",
       "      <th></th>\n",
       "      <th>strain</th>\n",
       "      <th>collapsedTo</th>\n",
       "      <th>support</th>\n",
       "      <th>rootSupport</th>\n",
       "      <th>supportGroup</th>\n",
       "      <th>supportTo</th>\n",
       "      <th>mutationsInf</th>\n",
       "      <th>Ns</th>\n",
       "      <th>country</th>\n",
       "      <th>date</th>\n",
       "      <th>lineage</th>\n",
       "    </tr>\n",
       "  </thead>\n",
       "  <tbody>\n",
       "    <tr>\n",
       "      <th>1</th>\n",
       "      <td>ERR4806745</td>\n",
       "      <td>ERR4806745_MinorSeqsClade</td>\n",
       "      <td>NaN</td>\n",
       "      <td>NaN</td>\n",
       "      <td>NaN</td>\n",
       "      <td>NaN</td>\n",
       "      <td>NaN</td>\n",
       "      <td>NaN</td>\n",
       "      <td>United Kingdom</td>\n",
       "      <td>2020-10-08</td>\n",
       "      <td>A</td>\n",
       "    </tr>\n",
       "    <tr>\n",
       "      <th>2</th>\n",
       "      <td>ERR5989690</td>\n",
       "      <td>ERR4806745_MinorSeqsClade</td>\n",
       "      <td>NaN</td>\n",
       "      <td>NaN</td>\n",
       "      <td>NaN</td>\n",
       "      <td>NaN</td>\n",
       "      <td>NaN</td>\n",
       "      <td>NaN</td>\n",
       "      <td>United Kingdom</td>\n",
       "      <td>2020</td>\n",
       "      <td>A</td>\n",
       "    </tr>\n",
       "    <tr>\n",
       "      <th>3</th>\n",
       "      <td>ERR6061709</td>\n",
       "      <td>ERR4806745_MinorSeqsClade</td>\n",
       "      <td>NaN</td>\n",
       "      <td>NaN</td>\n",
       "      <td>NaN</td>\n",
       "      <td>NaN</td>\n",
       "      <td>NaN</td>\n",
       "      <td>NaN</td>\n",
       "      <td>United Kingdom</td>\n",
       "      <td>2020</td>\n",
       "      <td>A</td>\n",
       "    </tr>\n",
       "    <tr>\n",
       "      <th>4</th>\n",
       "      <td>ERR5628278</td>\n",
       "      <td>ERR4806745_MinorSeqsClade</td>\n",
       "      <td>NaN</td>\n",
       "      <td>NaN</td>\n",
       "      <td>NaN</td>\n",
       "      <td>NaN</td>\n",
       "      <td>NaN</td>\n",
       "      <td>NaN</td>\n",
       "      <td>United Kingdom</td>\n",
       "      <td>2020</td>\n",
       "      <td>A</td>\n",
       "    </tr>\n",
       "    <tr>\n",
       "      <th>5</th>\n",
       "      <td>ERR4806964</td>\n",
       "      <td>ERR4806745_MinorSeqsClade</td>\n",
       "      <td>NaN</td>\n",
       "      <td>NaN</td>\n",
       "      <td>NaN</td>\n",
       "      <td>NaN</td>\n",
       "      <td>NaN</td>\n",
       "      <td>NaN</td>\n",
       "      <td>United Kingdom</td>\n",
       "      <td>2020-10-13</td>\n",
       "      <td>A</td>\n",
       "    </tr>\n",
       "  </tbody>\n",
       "</table>\n",
       "</div>"
      ]
     },
     "execution_count": 9,
     "metadata": {},
     "output_type": "execute_result"
    }
   ],
   "execution_count": 9
  },
  {
   "metadata": {
    "ExecuteTime": {
     "end_time": "2024-09-03T14:57:00.554361Z",
     "start_time": "2024-09-03T14:57:00.523717Z"
    }
   },
   "cell_type": "code",
   "source": [
    "seq_count = seq_m.groupby('country').size()\n",
    "def convert(country_name):\n",
    "    country = pycountry.countries.get(name=country_name)\n",
    "    if country is None:\n",
    "        if country_name == 'Russia':\n",
    "            return 'RUS'\n",
    "        return country_name\n",
    "    return country.alpha_3\n",
    "seq_count.index = seq_count.index.map(lambda x: convert(x))\n",
    "seq_count.head()"
   ],
   "id": "d46efd44b28cdc49",
   "outputs": [
    {
     "data": {
      "text/plain": [
       "country\n",
       "AGO      4\n",
       "AUS     95\n",
       "CAN    161\n",
       "CHN     11\n",
       "EST     13\n",
       "dtype: int64"
      ]
     },
     "execution_count": 10,
     "metadata": {},
     "output_type": "execute_result"
    }
   ],
   "execution_count": 10
  },
  {
   "metadata": {},
   "cell_type": "code",
   "source": "",
   "id": "b490522f043f8597",
   "outputs": [],
   "execution_count": 10
  },
  {
   "metadata": {
    "ExecuteTime": {
     "end_time": "2024-09-03T14:57:00.676303Z",
     "start_time": "2024-09-03T14:57:00.583144Z"
    }
   },
   "cell_type": "code",
   "source": [
    "total_cases_by_country = cases_by_country.groupby('iso_code', as_index=True).aggregate({'new_cases':'sum'})\n",
    "# Hong Kong is missing, using: https://www.worldometers.info/coronavirus/country/china-hong-kong-sar/\n",
    "\n",
    "total_cases_by_country.loc['HKG', 'new_cases'] = 2937609."
   ],
   "id": "2d78e4cbc979a8ad",
   "outputs": [],
   "execution_count": 11
  },
  {
   "metadata": {
    "ExecuteTime": {
     "end_time": "2024-09-03T14:57:00.889389Z",
     "start_time": "2024-09-03T14:57:00.687749Z"
    }
   },
   "cell_type": "code",
   "source": [
    "sampling_proportions = pd.DataFrame(columns=['alpha2','proportion'])\n",
    "new_index = 0\n",
    "for country in seq_count.index:\n",
    "    sampling_prop = seq_count[country]/total_cases_by_country.loc[country]['new_cases']\n",
    "    sampling_proportions.loc[new_index] = [pycountry.countries.get(alpha_3=country).alpha_2]+[sampling_prop]\n",
    "    new_index+=1\n",
    "sampling_proportions['proportion'] = sampling_proportions['proportion'] \n",
    "sampling_proportions"
   ],
   "id": "91245e6bd139b9ad",
   "outputs": [
    {
     "data": {
      "text/plain": [
       "   alpha2    proportion\n",
       "0      AO  3.722004e-05\n",
       "1      AU  8.009334e-06\n",
       "2      CA  3.342462e-05\n",
       "3      CN  1.107028e-07\n",
       "4      EE  2.129503e-05\n",
       "5      ET  3.990622e-06\n",
       "6      FI  4.467524e-05\n",
       "7      FR  2.666838e-06\n",
       "8      DE  7.804826e-08\n",
       "9      IN  3.108296e-07\n",
       "10     IL  2.065451e-07\n",
       "11     IT  1.758479e-06\n",
       "12     JO  5.724108e-07\n",
       "13     LV  1.534111e-05\n",
       "14     NO  4.503660e-05\n",
       "15     PT  3.817887e-05\n",
       "16     SK  5.325287e-07\n",
       "17     ZA  2.455351e-07\n",
       "18     ES  1.573638e-06\n",
       "19     US  7.695518e-06\n",
       "20     GB  8.523779e-04\n",
       "21     ZW  1.501642e-05"
      ],
      "text/html": [
       "<div>\n",
       "<style scoped>\n",
       "    .dataframe tbody tr th:only-of-type {\n",
       "        vertical-align: middle;\n",
       "    }\n",
       "\n",
       "    .dataframe tbody tr th {\n",
       "        vertical-align: top;\n",
       "    }\n",
       "\n",
       "    .dataframe thead th {\n",
       "        text-align: right;\n",
       "    }\n",
       "</style>\n",
       "<table border=\"1\" class=\"dataframe\">\n",
       "  <thead>\n",
       "    <tr style=\"text-align: right;\">\n",
       "      <th></th>\n",
       "      <th>alpha2</th>\n",
       "      <th>proportion</th>\n",
       "    </tr>\n",
       "  </thead>\n",
       "  <tbody>\n",
       "    <tr>\n",
       "      <th>0</th>\n",
       "      <td>AO</td>\n",
       "      <td>3.722004e-05</td>\n",
       "    </tr>\n",
       "    <tr>\n",
       "      <th>1</th>\n",
       "      <td>AU</td>\n",
       "      <td>8.009334e-06</td>\n",
       "    </tr>\n",
       "    <tr>\n",
       "      <th>2</th>\n",
       "      <td>CA</td>\n",
       "      <td>3.342462e-05</td>\n",
       "    </tr>\n",
       "    <tr>\n",
       "      <th>3</th>\n",
       "      <td>CN</td>\n",
       "      <td>1.107028e-07</td>\n",
       "    </tr>\n",
       "    <tr>\n",
       "      <th>4</th>\n",
       "      <td>EE</td>\n",
       "      <td>2.129503e-05</td>\n",
       "    </tr>\n",
       "    <tr>\n",
       "      <th>5</th>\n",
       "      <td>ET</td>\n",
       "      <td>3.990622e-06</td>\n",
       "    </tr>\n",
       "    <tr>\n",
       "      <th>6</th>\n",
       "      <td>FI</td>\n",
       "      <td>4.467524e-05</td>\n",
       "    </tr>\n",
       "    <tr>\n",
       "      <th>7</th>\n",
       "      <td>FR</td>\n",
       "      <td>2.666838e-06</td>\n",
       "    </tr>\n",
       "    <tr>\n",
       "      <th>8</th>\n",
       "      <td>DE</td>\n",
       "      <td>7.804826e-08</td>\n",
       "    </tr>\n",
       "    <tr>\n",
       "      <th>9</th>\n",
       "      <td>IN</td>\n",
       "      <td>3.108296e-07</td>\n",
       "    </tr>\n",
       "    <tr>\n",
       "      <th>10</th>\n",
       "      <td>IL</td>\n",
       "      <td>2.065451e-07</td>\n",
       "    </tr>\n",
       "    <tr>\n",
       "      <th>11</th>\n",
       "      <td>IT</td>\n",
       "      <td>1.758479e-06</td>\n",
       "    </tr>\n",
       "    <tr>\n",
       "      <th>12</th>\n",
       "      <td>JO</td>\n",
       "      <td>5.724108e-07</td>\n",
       "    </tr>\n",
       "    <tr>\n",
       "      <th>13</th>\n",
       "      <td>LV</td>\n",
       "      <td>1.534111e-05</td>\n",
       "    </tr>\n",
       "    <tr>\n",
       "      <th>14</th>\n",
       "      <td>NO</td>\n",
       "      <td>4.503660e-05</td>\n",
       "    </tr>\n",
       "    <tr>\n",
       "      <th>15</th>\n",
       "      <td>PT</td>\n",
       "      <td>3.817887e-05</td>\n",
       "    </tr>\n",
       "    <tr>\n",
       "      <th>16</th>\n",
       "      <td>SK</td>\n",
       "      <td>5.325287e-07</td>\n",
       "    </tr>\n",
       "    <tr>\n",
       "      <th>17</th>\n",
       "      <td>ZA</td>\n",
       "      <td>2.455351e-07</td>\n",
       "    </tr>\n",
       "    <tr>\n",
       "      <th>18</th>\n",
       "      <td>ES</td>\n",
       "      <td>1.573638e-06</td>\n",
       "    </tr>\n",
       "    <tr>\n",
       "      <th>19</th>\n",
       "      <td>US</td>\n",
       "      <td>7.695518e-06</td>\n",
       "    </tr>\n",
       "    <tr>\n",
       "      <th>20</th>\n",
       "      <td>GB</td>\n",
       "      <td>8.523779e-04</td>\n",
       "    </tr>\n",
       "    <tr>\n",
       "      <th>21</th>\n",
       "      <td>ZW</td>\n",
       "      <td>1.501642e-05</td>\n",
       "    </tr>\n",
       "  </tbody>\n",
       "</table>\n",
       "</div>"
      ]
     },
     "execution_count": 12,
     "metadata": {},
     "output_type": "execute_result"
    }
   ],
   "execution_count": 12
  },
  {
   "metadata": {
    "ExecuteTime": {
     "end_time": "2024-09-03T14:57:00.915780Z",
     "start_time": "2024-09-03T14:57:00.896164Z"
    }
   },
   "cell_type": "code",
   "source": "sampling_proportions.to_csv('data_sources/sampling_multipliers.csv', index=False)",
   "id": "610e338adb7345a6",
   "outputs": [],
   "execution_count": 13
  },
  {
   "metadata": {
    "ExecuteTime": {
     "end_time": "2024-09-03T14:58:03.398357Z",
     "start_time": "2024-09-03T14:58:03.372011Z"
    }
   },
   "cell_type": "code",
   "source": "total_cases_by_country.loc['GBR']",
   "id": "26bf5e70a3d819c4",
   "outputs": [
    {
     "data": {
      "text/plain": [
       "new_cases    24956066.0\n",
       "Name: GBR, dtype: float64"
      ]
     },
     "execution_count": 16,
     "metadata": {},
     "output_type": "execute_result"
    }
   ],
   "execution_count": 16
  }
 ],
 "metadata": {
  "kernelspec": {
   "display_name": "Python 3",
   "language": "python",
   "name": "python3"
  },
  "language_info": {
   "codemirror_mode": {
    "name": "ipython",
    "version": 2
   },
   "file_extension": ".py",
   "mimetype": "text/x-python",
   "name": "python",
   "nbconvert_exporter": "python",
   "pygments_lexer": "ipython2",
   "version": "2.7.6"
  }
 },
 "nbformat": 4,
 "nbformat_minor": 5
}
