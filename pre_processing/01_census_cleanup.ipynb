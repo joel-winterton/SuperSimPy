{
 "cells": [
  {
   "metadata": {},
   "cell_type": "markdown",
   "source": [
    " # Census cleanup \n",
    "To obtain the migration matrix, we need census data from 2013 that is compatible with the effective distance data obtained. \n",
    "This notebook converts a census dataset into a compatible format to be usable to calculate the migration matrix."
   ],
   "id": "1d4a66a908b727b7"
  },
  {
   "metadata": {
    "ExecuteTime": {
     "end_time": "2024-08-30T16:36:24.604782Z",
     "start_time": "2024-08-30T16:36:22.869489Z"
    }
   },
   "cell_type": "code",
   "source": [
    "import pandas as pd\n",
    "import pycountry\n",
    "\n",
    "population_sizes = pd.read_csv('data_sources/population2013.csv', header=0)\n",
    "population_sizes.shape"
   ],
   "id": "initial_id",
   "outputs": [
    {
     "data": {
      "text/plain": [
       "(271, 16)"
      ]
     },
     "execution_count": 1,
     "metadata": {},
     "output_type": "execute_result"
    }
   ],
   "execution_count": 1
  },
  {
   "metadata": {},
   "cell_type": "markdown",
   "source": [
    "\n",
    "Source: https://data-explorer.oecd.org/vis?tenant=archive&df[ds]=DisseminateArchiveDMZ&df[id]=DF_EDU_DEM&df[ag]=OECD&dq=..&pd=2013%2C2013&to[TIME_PERIOD]=false\n",
    "\n",
    "Country populations in 2013 (since flight data was from 2013 and so fluxes rely on population structure from 2013)"
   ],
   "id": "5c24cee8ad2cf688"
  },
  {
   "metadata": {
    "ExecuteTime": {
     "end_time": "2024-08-30T16:36:25.795302Z",
     "start_time": "2024-08-30T16:36:25.714998Z"
    }
   },
   "cell_type": "code",
   "source": "population_sizes.head()",
   "id": "7807a95b380a3229",
   "outputs": [
    {
     "data": {
      "text/plain": [
       "         Series Name  Series Code    Country Name Country Code 1990 [YR1990]  \\\n",
       "0  Population, total  SP.POP.TOTL     Afghanistan          AFG      10694796   \n",
       "1  Population, total  SP.POP.TOTL         Albania          ALB       3286542   \n",
       "2  Population, total  SP.POP.TOTL         Algeria          DZA      25518074   \n",
       "3  Population, total  SP.POP.TOTL  American Samoa          ASM         47818   \n",
       "4  Population, total  SP.POP.TOTL         Andorra          AND         53569   \n",
       "\n",
       "  2000 [YR2000] 2014 [YR2014] 2015 [YR2015] 2016 [YR2016] 2017 [YR2017]  \\\n",
       "0      19542982      32716210      33753499      34636207      35643418   \n",
       "1       3089027       2889104       2880703       2876101       2873457   \n",
       "2      30774621      38760168      39543154      40339329      41136546   \n",
       "3         58230         52217         51368         50448         49463   \n",
       "4         66097         71621         71746         72540         73837   \n",
       "\n",
       "  2018 [YR2018] 2019 [YR2019] 2020 [YR2020] 2021 [YR2021] 2022 [YR2022]  \\\n",
       "0      36686784      37769499      38972230      40099462      41128771   \n",
       "1       2866376       2854191       2837849       2811666       2777689   \n",
       "2      41927007      42705368      43451666      44177969      44903225   \n",
       "3         48424         47321         46189         45035         44273   \n",
       "4         75013         76343         77700         79034         79824   \n",
       "\n",
       "  2023 [YR2023]  \n",
       "0      42239854  \n",
       "1       2745972  \n",
       "2      45606480  \n",
       "3         43914  \n",
       "4         80088  "
      ],
      "text/html": [
       "<div>\n",
       "<style scoped>\n",
       "    .dataframe tbody tr th:only-of-type {\n",
       "        vertical-align: middle;\n",
       "    }\n",
       "\n",
       "    .dataframe tbody tr th {\n",
       "        vertical-align: top;\n",
       "    }\n",
       "\n",
       "    .dataframe thead th {\n",
       "        text-align: right;\n",
       "    }\n",
       "</style>\n",
       "<table border=\"1\" class=\"dataframe\">\n",
       "  <thead>\n",
       "    <tr style=\"text-align: right;\">\n",
       "      <th></th>\n",
       "      <th>Series Name</th>\n",
       "      <th>Series Code</th>\n",
       "      <th>Country Name</th>\n",
       "      <th>Country Code</th>\n",
       "      <th>1990 [YR1990]</th>\n",
       "      <th>2000 [YR2000]</th>\n",
       "      <th>2014 [YR2014]</th>\n",
       "      <th>2015 [YR2015]</th>\n",
       "      <th>2016 [YR2016]</th>\n",
       "      <th>2017 [YR2017]</th>\n",
       "      <th>2018 [YR2018]</th>\n",
       "      <th>2019 [YR2019]</th>\n",
       "      <th>2020 [YR2020]</th>\n",
       "      <th>2021 [YR2021]</th>\n",
       "      <th>2022 [YR2022]</th>\n",
       "      <th>2023 [YR2023]</th>\n",
       "    </tr>\n",
       "  </thead>\n",
       "  <tbody>\n",
       "    <tr>\n",
       "      <th>0</th>\n",
       "      <td>Population, total</td>\n",
       "      <td>SP.POP.TOTL</td>\n",
       "      <td>Afghanistan</td>\n",
       "      <td>AFG</td>\n",
       "      <td>10694796</td>\n",
       "      <td>19542982</td>\n",
       "      <td>32716210</td>\n",
       "      <td>33753499</td>\n",
       "      <td>34636207</td>\n",
       "      <td>35643418</td>\n",
       "      <td>36686784</td>\n",
       "      <td>37769499</td>\n",
       "      <td>38972230</td>\n",
       "      <td>40099462</td>\n",
       "      <td>41128771</td>\n",
       "      <td>42239854</td>\n",
       "    </tr>\n",
       "    <tr>\n",
       "      <th>1</th>\n",
       "      <td>Population, total</td>\n",
       "      <td>SP.POP.TOTL</td>\n",
       "      <td>Albania</td>\n",
       "      <td>ALB</td>\n",
       "      <td>3286542</td>\n",
       "      <td>3089027</td>\n",
       "      <td>2889104</td>\n",
       "      <td>2880703</td>\n",
       "      <td>2876101</td>\n",
       "      <td>2873457</td>\n",
       "      <td>2866376</td>\n",
       "      <td>2854191</td>\n",
       "      <td>2837849</td>\n",
       "      <td>2811666</td>\n",
       "      <td>2777689</td>\n",
       "      <td>2745972</td>\n",
       "    </tr>\n",
       "    <tr>\n",
       "      <th>2</th>\n",
       "      <td>Population, total</td>\n",
       "      <td>SP.POP.TOTL</td>\n",
       "      <td>Algeria</td>\n",
       "      <td>DZA</td>\n",
       "      <td>25518074</td>\n",
       "      <td>30774621</td>\n",
       "      <td>38760168</td>\n",
       "      <td>39543154</td>\n",
       "      <td>40339329</td>\n",
       "      <td>41136546</td>\n",
       "      <td>41927007</td>\n",
       "      <td>42705368</td>\n",
       "      <td>43451666</td>\n",
       "      <td>44177969</td>\n",
       "      <td>44903225</td>\n",
       "      <td>45606480</td>\n",
       "    </tr>\n",
       "    <tr>\n",
       "      <th>3</th>\n",
       "      <td>Population, total</td>\n",
       "      <td>SP.POP.TOTL</td>\n",
       "      <td>American Samoa</td>\n",
       "      <td>ASM</td>\n",
       "      <td>47818</td>\n",
       "      <td>58230</td>\n",
       "      <td>52217</td>\n",
       "      <td>51368</td>\n",
       "      <td>50448</td>\n",
       "      <td>49463</td>\n",
       "      <td>48424</td>\n",
       "      <td>47321</td>\n",
       "      <td>46189</td>\n",
       "      <td>45035</td>\n",
       "      <td>44273</td>\n",
       "      <td>43914</td>\n",
       "    </tr>\n",
       "    <tr>\n",
       "      <th>4</th>\n",
       "      <td>Population, total</td>\n",
       "      <td>SP.POP.TOTL</td>\n",
       "      <td>Andorra</td>\n",
       "      <td>AND</td>\n",
       "      <td>53569</td>\n",
       "      <td>66097</td>\n",
       "      <td>71621</td>\n",
       "      <td>71746</td>\n",
       "      <td>72540</td>\n",
       "      <td>73837</td>\n",
       "      <td>75013</td>\n",
       "      <td>76343</td>\n",
       "      <td>77700</td>\n",
       "      <td>79034</td>\n",
       "      <td>79824</td>\n",
       "      <td>80088</td>\n",
       "    </tr>\n",
       "  </tbody>\n",
       "</table>\n",
       "</div>"
      ]
     },
     "execution_count": 2,
     "metadata": {},
     "output_type": "execute_result"
    }
   ],
   "execution_count": 2
  },
  {
   "metadata": {},
   "cell_type": "markdown",
   "source": "### Clean",
   "id": "37e3deba16d1e8a5"
  },
  {
   "metadata": {
    "ExecuteTime": {
     "end_time": "2024-08-30T16:36:27.339928Z",
     "start_time": "2024-08-30T16:36:27.275554Z"
    }
   },
   "cell_type": "code",
   "source": [
    "population_sizes = population_sizes[['Country Code', '2014 [YR2014]', 'Country Name']]\n",
    "population_sizes.reset_index(drop=True, inplace=True)\n",
    "population_sizes.rename(columns={'Country Code': 'alpha3', '2014 [YR2014]':'population', 'Country Name':'fullname'}, inplace=True)\n",
    "population_sizes.head()"
   ],
   "id": "3f02962b4be71e22",
   "outputs": [
    {
     "data": {
      "text/plain": [
       "  alpha3 population        fullname\n",
       "0    AFG   32716210     Afghanistan\n",
       "1    ALB    2889104         Albania\n",
       "2    DZA   38760168         Algeria\n",
       "3    ASM      52217  American Samoa\n",
       "4    AND      71621         Andorra"
      ],
      "text/html": [
       "<div>\n",
       "<style scoped>\n",
       "    .dataframe tbody tr th:only-of-type {\n",
       "        vertical-align: middle;\n",
       "    }\n",
       "\n",
       "    .dataframe tbody tr th {\n",
       "        vertical-align: top;\n",
       "    }\n",
       "\n",
       "    .dataframe thead th {\n",
       "        text-align: right;\n",
       "    }\n",
       "</style>\n",
       "<table border=\"1\" class=\"dataframe\">\n",
       "  <thead>\n",
       "    <tr style=\"text-align: right;\">\n",
       "      <th></th>\n",
       "      <th>alpha3</th>\n",
       "      <th>population</th>\n",
       "      <th>fullname</th>\n",
       "    </tr>\n",
       "  </thead>\n",
       "  <tbody>\n",
       "    <tr>\n",
       "      <th>0</th>\n",
       "      <td>AFG</td>\n",
       "      <td>32716210</td>\n",
       "      <td>Afghanistan</td>\n",
       "    </tr>\n",
       "    <tr>\n",
       "      <th>1</th>\n",
       "      <td>ALB</td>\n",
       "      <td>2889104</td>\n",
       "      <td>Albania</td>\n",
       "    </tr>\n",
       "    <tr>\n",
       "      <th>2</th>\n",
       "      <td>DZA</td>\n",
       "      <td>38760168</td>\n",
       "      <td>Algeria</td>\n",
       "    </tr>\n",
       "    <tr>\n",
       "      <th>3</th>\n",
       "      <td>ASM</td>\n",
       "      <td>52217</td>\n",
       "      <td>American Samoa</td>\n",
       "    </tr>\n",
       "    <tr>\n",
       "      <th>4</th>\n",
       "      <td>AND</td>\n",
       "      <td>71621</td>\n",
       "      <td>Andorra</td>\n",
       "    </tr>\n",
       "  </tbody>\n",
       "</table>\n",
       "</div>"
      ]
     },
     "execution_count": 3,
     "metadata": {},
     "output_type": "execute_result"
    }
   ],
   "execution_count": 3
  },
  {
   "metadata": {},
   "cell_type": "markdown",
   "source": "## Replace alpha3 with alpha2\n",
   "id": "ab69eb42049c39b4"
  },
  {
   "metadata": {
    "ExecuteTime": {
     "end_time": "2024-08-30T16:36:29.038526Z",
     "start_time": "2024-08-30T16:36:27.837043Z"
    }
   },
   "cell_type": "code",
   "source": [
    "df = pd.DataFrame(columns=['alpha2', 'population', 'fullname'])\n",
    "new_index = 0\n",
    "for index, row in population_sizes.iterrows():\n",
    "    try: \n",
    "        country = pycountry.countries.get(alpha_3 = row.alpha3)\n",
    "        if country is not None: \n",
    "            df.loc[new_index] = [country.alpha_2] + [row.population] + [row.fullname]\n",
    "            new_index += 1\n",
    "    except:\n",
    "        print(f'{row.alpha3} country not found')"
   ],
   "id": "8af5e1e5cd3eb9d0",
   "outputs": [
    {
     "name": "stdout",
     "output_type": "stream",
     "text": [
      "nan country not found\n",
      "nan country not found\n",
      "nan country not found\n",
      "nan country not found\n",
      "nan country not found\n"
     ]
    }
   ],
   "execution_count": 4
  },
  {
   "metadata": {
    "ExecuteTime": {
     "end_time": "2024-08-30T16:36:29.771593Z",
     "start_time": "2024-08-30T16:36:29.716548Z"
    }
   },
   "cell_type": "code",
   "source": "df",
   "id": "8a9406f041c4bb09",
   "outputs": [
    {
     "data": {
      "text/plain": [
       "    alpha2 population               fullname\n",
       "0       AF   32716210            Afghanistan\n",
       "1       AL    2889104                Albania\n",
       "2       DZ   38760168                Algeria\n",
       "3       AS      52217         American Samoa\n",
       "4       AD      71621                Andorra\n",
       "..     ...        ...                    ...\n",
       "210     VI     107882  Virgin Islands (U.S.)\n",
       "211     PS    4173398     West Bank and Gaza\n",
       "212     YE   27753304            Yemen, Rep.\n",
       "213     ZM   15737793                 Zambia\n",
       "214     ZW   13855753               Zimbabwe\n",
       "\n",
       "[215 rows x 3 columns]"
      ],
      "text/html": [
       "<div>\n",
       "<style scoped>\n",
       "    .dataframe tbody tr th:only-of-type {\n",
       "        vertical-align: middle;\n",
       "    }\n",
       "\n",
       "    .dataframe tbody tr th {\n",
       "        vertical-align: top;\n",
       "    }\n",
       "\n",
       "    .dataframe thead th {\n",
       "        text-align: right;\n",
       "    }\n",
       "</style>\n",
       "<table border=\"1\" class=\"dataframe\">\n",
       "  <thead>\n",
       "    <tr style=\"text-align: right;\">\n",
       "      <th></th>\n",
       "      <th>alpha2</th>\n",
       "      <th>population</th>\n",
       "      <th>fullname</th>\n",
       "    </tr>\n",
       "  </thead>\n",
       "  <tbody>\n",
       "    <tr>\n",
       "      <th>0</th>\n",
       "      <td>AF</td>\n",
       "      <td>32716210</td>\n",
       "      <td>Afghanistan</td>\n",
       "    </tr>\n",
       "    <tr>\n",
       "      <th>1</th>\n",
       "      <td>AL</td>\n",
       "      <td>2889104</td>\n",
       "      <td>Albania</td>\n",
       "    </tr>\n",
       "    <tr>\n",
       "      <th>2</th>\n",
       "      <td>DZ</td>\n",
       "      <td>38760168</td>\n",
       "      <td>Algeria</td>\n",
       "    </tr>\n",
       "    <tr>\n",
       "      <th>3</th>\n",
       "      <td>AS</td>\n",
       "      <td>52217</td>\n",
       "      <td>American Samoa</td>\n",
       "    </tr>\n",
       "    <tr>\n",
       "      <th>4</th>\n",
       "      <td>AD</td>\n",
       "      <td>71621</td>\n",
       "      <td>Andorra</td>\n",
       "    </tr>\n",
       "    <tr>\n",
       "      <th>...</th>\n",
       "      <td>...</td>\n",
       "      <td>...</td>\n",
       "      <td>...</td>\n",
       "    </tr>\n",
       "    <tr>\n",
       "      <th>210</th>\n",
       "      <td>VI</td>\n",
       "      <td>107882</td>\n",
       "      <td>Virgin Islands (U.S.)</td>\n",
       "    </tr>\n",
       "    <tr>\n",
       "      <th>211</th>\n",
       "      <td>PS</td>\n",
       "      <td>4173398</td>\n",
       "      <td>West Bank and Gaza</td>\n",
       "    </tr>\n",
       "    <tr>\n",
       "      <th>212</th>\n",
       "      <td>YE</td>\n",
       "      <td>27753304</td>\n",
       "      <td>Yemen, Rep.</td>\n",
       "    </tr>\n",
       "    <tr>\n",
       "      <th>213</th>\n",
       "      <td>ZM</td>\n",
       "      <td>15737793</td>\n",
       "      <td>Zambia</td>\n",
       "    </tr>\n",
       "    <tr>\n",
       "      <th>214</th>\n",
       "      <td>ZW</td>\n",
       "      <td>13855753</td>\n",
       "      <td>Zimbabwe</td>\n",
       "    </tr>\n",
       "  </tbody>\n",
       "</table>\n",
       "<p>215 rows × 3 columns</p>\n",
       "</div>"
      ]
     },
     "execution_count": 5,
     "metadata": {},
     "output_type": "execute_result"
    }
   ],
   "execution_count": 5
  },
  {
   "metadata": {},
   "cell_type": "markdown",
   "source": "### Save result",
   "id": "7d463773149d0ede"
  },
  {
   "metadata": {
    "ExecuteTime": {
     "end_time": "2024-08-30T16:40:16.594708Z",
     "start_time": "2024-08-30T16:40:16.579258Z"
    }
   },
   "cell_type": "code",
   "source": "df.to_csv(r'data_sources/census_2013.csv', index=None, sep=',', mode='w')\n",
   "id": "617c578a833475ec",
   "outputs": [],
   "execution_count": 7
  }
 ],
 "metadata": {
  "kernelspec": {
   "display_name": "Python 3",
   "language": "python",
   "name": "python3"
  },
  "language_info": {
   "codemirror_mode": {
    "name": "ipython",
    "version": 2
   },
   "file_extension": ".py",
   "mimetype": "text/x-python",
   "name": "python",
   "nbconvert_exporter": "python",
   "pygments_lexer": "ipython2",
   "version": "2.7.6"
  }
 },
 "nbformat": 4,
 "nbformat_minor": 5
}
