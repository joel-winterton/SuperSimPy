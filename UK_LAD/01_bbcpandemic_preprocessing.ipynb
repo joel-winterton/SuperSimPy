{
 "cells": [
  {
   "cell_type": "code",
   "id": "initial_id",
   "metadata": {
    "collapsed": true,
    "ExecuteTime": {
     "end_time": "2024-10-22T09:50:11.542923Z",
     "start_time": "2024-10-22T09:50:11.539673Z"
    }
   },
   "source": [
    "import pandas as pd\n",
    "import numpy as np\n",
    "output_path = './parameters'"
   ],
   "outputs": [],
   "execution_count": 8
  },
  {
   "metadata": {
    "ExecuteTime": {
     "end_time": "2024-10-22T09:50:11.709032Z",
     "start_time": "2024-10-22T09:50:11.547443Z"
    }
   },
   "cell_type": "code",
   "source": [
    "# Fluxes\n",
    "mob_data = pd.read_csv('https://raw.githubusercontent.com/BBCPandemic/BBCMobility/refs/heads/master/flux/england/E_total_flux_all.csv', header=None, skiprows=1)\n",
    "flux_ids = mob_data[0].values\n",
    "mob_data.drop(columns=0, inplace=True)\n",
    "fluxes = mob_data.values\n",
    "total_fluxes = fluxes.sum(axis=0)\n",
    "\n",
    "# Census\n",
    "census =pd.read_csv('lad_population_by_age.csv')\n",
    "census.set_index('lad17cd', inplace=True)\n",
    "populations = census.sum(axis=1).values\n",
    "np.fill_diagonal(fluxes, populations - total_fluxes)"
   ],
   "id": "1daacab2997348e4",
   "outputs": [],
   "execution_count": 9
  },
  {
   "metadata": {
    "ExecuteTime": {
     "end_time": "2024-10-22T09:50:11.729870Z",
     "start_time": "2024-10-22T09:50:11.724962Z"
    }
   },
   "cell_type": "code",
   "source": "fluxes",
   "id": "bace2c225370cc10",
   "outputs": [
    {
     "data": {
      "text/plain": [
       "array([[ 73461,      5,      6, ...,      0,      0,      0],\n",
       "       [    19, 110538,     30, ...,      0,      0,      0],\n",
       "       [     3,     49, 108999, ...,      0,      0,      0],\n",
       "       ...,\n",
       "       [     0,      0,      0, ..., 207750,      3,     81],\n",
       "       [     0,      0,      0, ...,      0, 254846,    348],\n",
       "       [     0,      0,      0, ...,     13,     50, 179240]], dtype=int64)"
      ]
     },
     "execution_count": 10,
     "metadata": {},
     "output_type": "execute_result"
    }
   ],
   "execution_count": 10
  },
  {
   "metadata": {
    "ExecuteTime": {
     "end_time": "2024-10-22T09:50:11.774906Z",
     "start_time": "2024-10-22T09:50:11.770027Z"
    }
   },
   "cell_type": "code",
   "source": "probability_matrix = np.matmul(fluxes, np.diag(1/fluxes.sum(axis=0)))",
   "id": "d8faa2a4251f1393",
   "outputs": [],
   "execution_count": 11
  },
  {
   "metadata": {
    "ExecuteTime": {
     "end_time": "2024-10-22T09:50:11.881338Z",
     "start_time": "2024-10-22T09:50:11.843433Z"
    }
   },
   "cell_type": "code",
   "source": [
    "base_file = f'{output_path}/manypop'\n",
    "with open(base_file + '.mg', 'w+') as f:\n",
    "    f.write('#Migration_format_version 0.0.1\\n')\n",
    "    np.savetxt(f, probability_matrix, delimiter=' ', fmt='%.15f')"
   ],
   "id": "2d4c9fb0d5a1706f",
   "outputs": [],
   "execution_count": 12
  },
  {
   "metadata": {
    "ExecuteTime": {
     "end_time": "2024-10-22T09:50:11.902409Z",
     "start_time": "2024-10-22T09:50:11.888382Z"
    }
   },
   "cell_type": "code",
   "source": [
    "population_data = pd.DataFrame({'size': populations,\n",
    "                                'contactDensity': np.full(shape=populations.shape, fill_value=1.00,\n",
    "                                                          dtype=np.double),\n",
    "                                'conDenAfterLD': np.full(shape=populations.shape, fill_value=0.2,\n",
    "                                                         dtype=np.double),\n",
    "                                'startLD': np.full(shape=populations.shape, fill_value=1.,\n",
    "                                                   dtype=np.double),\n",
    "                                'endLD': np.full(shape=populations.shape, fill_value=0.01,\n",
    "                                                 dtype=np.double),\n",
    "                                'samplingMultiplier': np.full(shape=populations.shape,fill_value=10.0,dtype=np.double),\n",
    "                                'fullname':flux_ids})\n",
    "# VGsim seems to require 3 columns to be comma-seperated, while the rest are space seperated, so must merge some columns by commas: \n",
    "population_data['id'] = range(0,populations.shape[0])\n",
    "# Extract ID to Full country name to a separate table for relabelling countries after simulations\n",
    "population_translation_data = population_data[['id','fullname']]\n",
    "population_translation_data = population_translation_data.rename(columns={'id':'location'})\n",
    "population_translation_data['size'] = populations\n",
    "population_data['conDenAfterLD startLD endLD'] = population_data['conDenAfterLD'].astype(str) + \",\" + population_data[\n",
    "    'startLD'].astype(str) + \",\" + population_data['endLD'].astype(str)\n",
    "population_data = population_data[['id', 'size', 'contactDensity', 'conDenAfterLD startLD endLD', 'samplingMultiplier']]"
   ],
   "id": "c092ff5f697f7d99",
   "outputs": [],
   "execution_count": 13
  },
  {
   "metadata": {
    "ExecuteTime": {
     "end_time": "2024-10-22T09:50:11.937043Z",
     "start_time": "2024-10-22T09:50:11.926529Z"
    }
   },
   "cell_type": "code",
   "source": [
    "with open(base_file + '.pp', 'w') as f:\n",
    "    f.write('#Population_format_version 0.0.1\\n')\n",
    "\n",
    "population_data.to_csv(base_file + '.pp', header=True, index=None, mode=\"a\", sep=' ')\n",
    "population_translation_data.to_csv(f'{base_file}_country_ids.csv', index=None, sep=',', mode='w')"
   ],
   "id": "fc9fa645a61f59ef",
   "outputs": [],
   "execution_count": 14
  }
 ],
 "metadata": {
  "kernelspec": {
   "display_name": "Python 3",
   "language": "python",
   "name": "python3"
  },
  "language_info": {
   "codemirror_mode": {
    "name": "ipython",
    "version": 2
   },
   "file_extension": ".py",
   "mimetype": "text/x-python",
   "name": "python",
   "nbconvert_exporter": "python",
   "pygments_lexer": "ipython2",
   "version": "2.7.6"
  }
 },
 "nbformat": 4,
 "nbformat_minor": 5
}
